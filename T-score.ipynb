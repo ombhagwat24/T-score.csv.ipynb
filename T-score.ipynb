{
 "cells": [
  {
   "cell_type": "code",
   "execution_count": 1,
   "id": "747f55d0",
   "metadata": {},
   "outputs": [],
   "source": [
    "from scipy import stats\n",
    "from scipy.stats import norm"
   ]
  },
  {
   "cell_type": "markdown",
   "id": "c7469c5b",
   "metadata": {},
   "source": [
    "## for 95% confidence interval"
   ]
  },
  {
   "cell_type": "code",
   "execution_count": 2,
   "id": "62f959c3",
   "metadata": {},
   "outputs": [
    {
     "data": {
      "text/plain": [
       "1.7108820799094275"
      ]
     },
     "execution_count": 2,
     "metadata": {},
     "output_type": "execute_result"
    }
   ],
   "source": [
    "stats.t.ppf(0.95,24)  "
   ]
  },
  {
   "cell_type": "markdown",
   "id": "902557c6",
   "metadata": {},
   "source": [
    "## for 96% confidence interval"
   ]
  },
  {
   "cell_type": "code",
   "execution_count": 3,
   "id": "ac0a794a",
   "metadata": {},
   "outputs": [
    {
     "data": {
      "text/plain": [
       "1.8280511719596342"
      ]
     },
     "execution_count": 3,
     "metadata": {},
     "output_type": "execute_result"
    }
   ],
   "source": [
    "stats.t.ppf(0.96,24)  "
   ]
  },
  {
   "cell_type": "markdown",
   "id": "345e39c0",
   "metadata": {},
   "source": [
    "## for 99% conference interval"
   ]
  },
  {
   "cell_type": "code",
   "execution_count": 4,
   "id": "6c7effd4",
   "metadata": {},
   "outputs": [
    {
     "data": {
      "text/plain": [
       "2.4921594731575762"
      ]
     },
     "execution_count": 4,
     "metadata": {},
     "output_type": "execute_result"
    }
   ],
   "source": [
    "stats.t.ppf(0.99,24)  "
   ]
  }
 ],
 "metadata": {
  "_draft": {
   "nbviewer_url": "https://gist.github.com/08351acdf26129397a18de5749ec4106"
  },
  "gist": {
   "data": {
    "description": "T-score.ipynb",
    "public": false
   },
   "id": "08351acdf26129397a18de5749ec4106"
  },
  "kernelspec": {
   "display_name": "Python 3 (ipykernel)",
   "language": "python",
   "name": "python3"
  },
  "language_info": {
   "codemirror_mode": {
    "name": "ipython",
    "version": 3
   },
   "file_extension": ".py",
   "mimetype": "text/x-python",
   "name": "python",
   "nbconvert_exporter": "python",
   "pygments_lexer": "ipython3",
   "version": "3.9.7"
  }
 },
 "nbformat": 4,
 "nbformat_minor": 5
}
